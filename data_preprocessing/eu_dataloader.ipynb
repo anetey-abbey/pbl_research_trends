{
 "cells": [
  {
   "cell_type": "code",
   "execution_count": 12,
   "id": "00d1dab8",
   "metadata": {},
   "outputs": [],
   "source": [
    "import feedparser\n",
    "from feedparser.util import FeedParserDict\n",
    "import os\n",
    "import requests\n",
    "from urllib.parse import urlparse\n",
    "import zipfile\n",
    "import pandas as pd"
   ]
  },
  {
   "cell_type": "markdown",
   "id": "a0145d73",
   "metadata": {},
   "source": [
    "## **EU CORDIS DATALOADER**\n",
    "This notebook is designed to connect to specified RSS URLs from Cordis EU data. It enables the download of all CSV.zip files and the subsequent extraction of these files for further analysis."
   ]
  },
  {
   "cell_type": "markdown",
   "id": "c5bc44e6",
   "metadata": {},
   "source": [
    "## **TABLE OF CONTENTS**:\n",
    "- [HOW TO USE](#1)\n",
    "- [EXAMPLE OF RRS FEED CONTENTS](#2)\n",
    "- [IMPORT DATA](#3)"
   ]
  },
  {
   "cell_type": "markdown",
   "id": "caa440e7",
   "metadata": {},
   "source": [
    "## **HOW TO USE**\n",
    "1. Run the entire notebook to automatically produce 3 folders with all the data from the 3 Cordis EU datasets:\n",
    "   - eu_cordis_2007_2013\n",
    "   - eu_cordis_2014_2020\n",
    "   - eu_cordis_2021_2027\n"
   ]
  },
  {
   "cell_type": "code",
   "execution_count": 13,
   "id": "557b8016",
   "metadata": {},
   "outputs": [],
   "source": [
    "def get_rss_feed(rss_url: str) -> FeedParserDict:\n",
    "    \"\"\"\n",
    "    Fetches and parses the RSS feed from the given URL.\n",
    "    \"\"\"\n",
    "    print('Getting RSS feed...')\n",
    "    feed = feedparser.parse(rss_url)\n",
    "    title = feed['feed'].get('title', 'N/A')\n",
    "    print(f'Feed title = {title}')\n",
    "    return feed\n",
    "\n",
    "\n",
    "def extract_enclosure_urls(feed):\n",
    "    \"\"\"\n",
    "    Extracts and returns enclosure URLs from the RSS feed.\n",
    "    \"\"\"\n",
    "    urls = []\n",
    "    for entry in feed.get('entries', []):\n",
    "        enclosures = entry.get('enclosures', [])\n",
    "        for enclosure in enclosures:\n",
    "            url = enclosure.get('href', 'N/A')\n",
    "            if url != 'N/A':\n",
    "                urls.append(url)\n",
    "    return urls\n",
    "\n",
    "\n",
    "def print_rss_feed(feed):\n",
    "    \"\"\"\n",
    "    Prints the channel information and items from the RSS feed.\n",
    "    \"\"\"\n",
    "    channel = feed['feed']\n",
    "    title = channel.get('title', 'N/A')\n",
    "    link = channel.get('link', 'N/A')\n",
    "    description = channel.get('description', 'N/A')\n",
    "    language = channel.get('language', 'N/A')\n",
    "    pub_date = channel.get('published', 'N/A')\n",
    "\n",
    "    print(\"Channel Information:\")\n",
    "    print(f\"Title: {title}\")\n",
    "    print(f\"Link: {link}\")\n",
    "    print(f\"Description: {description}\")\n",
    "    print(f\"Language: {language}\")\n",
    "    print(f\"Publication Date: {pub_date}\")\n",
    "\n",
    "    print(\"\\nItems:\")\n",
    "\n",
    "    # Extract and print items\n",
    "    for entry in feed['entries']:\n",
    "        item_title = entry.get('title', 'N/A')\n",
    "        item_link = entry.get('link', 'N/A')\n",
    "        item_description = entry.get('description', 'N/A')\n",
    "        item_pub_date = entry.get('published', 'N/A')\n",
    "\n",
    "        print(f\"\\nTitle: {item_title}\")\n",
    "        print(f\"Link: {item_link}\")\n",
    "        print(f\"Description: {item_description}\")\n",
    "        print(f\"Publication Date: {item_pub_date}\")\n",
    "\n",
    "        # Extract enclosures\n",
    "        enclosures = entry.get('enclosures', [])\n",
    "        if enclosures:\n",
    "            print(\"Enclosures:\")\n",
    "            for enclosure in enclosures:\n",
    "                url = enclosure.get('href', 'N/A')\n",
    "                file_type = enclosure.get('type', 'N/A')\n",
    "                print(f\" - URL: {url}, Type: {file_type}\")\n",
    "\n",
    "\n",
    "def download_csv_zip_files(urls, save_dir):\n",
    "    \"\"\"\n",
    "    Downloads CSV ZIP files from the given URLs to the specified directory.\n",
    "    \"\"\"\n",
    "    os.makedirs(save_dir, exist_ok=True)\n",
    "\n",
    "    downloaded_files = []\n",
    "    for url in urls:\n",
    "        if url.endswith('csv.zip'):\n",
    "            filename = os.path.basename(urlparse(url).path)\n",
    "            save_path = os.path.join(save_dir, filename)\n",
    "\n",
    "            print(f\"Downloading {url} to {save_path}\")\n",
    "            response = requests.get(url)\n",
    "            if response.status_code == 200:\n",
    "                with open(save_path, 'wb') as f:\n",
    "                    f.write(response.content)\n",
    "                downloaded_files.append(save_path)\n",
    "            else:\n",
    "                print(f\"Failed to download {url}\")\n",
    "    return downloaded_files\n",
    "\n",
    "\n",
    "def extract_zip_files(zip_files, extract_to):\n",
    "    \"\"\"\n",
    "    Extracts the contents of ZIP files to the specified directory.\n",
    "    \"\"\"\n",
    "    os.makedirs(extract_to, exist_ok=True)\n",
    "\n",
    "    for zip_file in zip_files:\n",
    "        print(f\"Extracting {zip_file} to {extract_to}\")\n",
    "        with zipfile.ZipFile(zip_file, 'r') as zip_ref:\n",
    "            zip_ref.extractall(extract_to)\n",
    "\n",
    "\n",
    "def download_dataset_from_rss(SAVE_DIRECTORY, RSS_URL):\n",
    "    \"\"\"\n",
    "    Downloads and extracts dataset files from an RSS feed to the specified directory.\n",
    "    \"\"\"\n",
    "    feed = get_rss_feed(RSS_URL)\n",
    "    enclosure_urls = extract_enclosure_urls(feed)\n",
    "    downloaded_files = download_csv_zip_files(enclosure_urls, SAVE_DIRECTORY)\n",
    "    extract_directory = os.path.join(SAVE_DIRECTORY, 'files')\n",
    "    extract_zip_files(downloaded_files, extract_directory)\n",
    "    print(f'Succesfully downloaded and extracted files from RSS_URL: {RSS_URL}')"
   ]
  },
  {
   "cell_type": "markdown",
   "id": "5d261d78",
   "metadata": {},
   "source": [
    "## **EXAMPLE OF RRS FEED CONTENTS** <a class=\"anchor\" id=\"2\"></a>"
   ]
  },
  {
   "cell_type": "code",
   "execution_count": 14,
   "id": "652000d7",
   "metadata": {},
   "outputs": [
    {
     "name": "stdout",
     "output_type": "stream",
     "text": [
      "Getting RSS feed...\n",
      "Feed title = CORDIS - EU research projects under HORIZON EUROPE (2021-2027) - RSS Feed\n",
      "Channel Information:\n",
      "Title: CORDIS - EU research projects under HORIZON EUROPE (2021-2027) - RSS Feed\n",
      "Link: http://data.europa.eu/data/datasets/cordis-eu-research-projects-under-horizon-europe-2021-2027\n",
      "Description: n/a\n",
      "Language: en\n",
      "Publication Date: Mon, 24 Jun 2024 06:42:04 +0000\n",
      "\n",
      "Items:\n",
      "\n",
      "Title: CORDIS - EU research projects under HORIZON EUROPE (2021-2027)\n",
      "Link: http://data.europa.eu/api/hub/search/datasets/cordis-eu-research-projects-under-horizon-europe-2021-2027\n",
      "Description: This dataset contains information about projects and their results funded by the European Union under the Horizon Europe framework programme for research and innovation from 2021 to 2027.\n",
      "   \n",
      "The dataset is composed of six (6) different sub-set (in different formats):\n",
      "\n",
      "- HORIZON projects – which includes participating organisations, legal basis information, topic information, project URLs and classification with the European Science Vocabulary (EuroSciVoc)\n",
      "- HORIZON project deliverables (meta-data and links to deliverables) \n",
      "- HORIZON project publications (meta-data and links to publications) \n",
      "- HORIZON report summaries (periodic or final publishable summaries) \n",
      "\n",
      "\n",
      "Reference data (programmes, topics, topic keywords funding schemes (types of action), organisation types and countries) can be found in this dataset: https://data.europa.eu/euodp/en/data/dataset/cordisref-data  \n",
      "\n",
      "EuroSciVoc is available here: https://data.europa.eu/data/datasets/euroscivoc-the-european-science-vocabulary\n",
      "\n",
      "CORDIS datasets are produced monthly. Therefore, inconsistencies may occur between what is presented on the CORDIS live website and the datasets.\n",
      "Publication Date: Tue, 18 Jun 2024 08:41:04 +0000\n",
      "Enclosures:\n",
      " - URL: https://cordis.europa.eu/data/cordis-HORIZONreports-xml.zip, Type: application/xml\n",
      " - URL: https://cordis.europa.eu/data/cordis-HORIZONprojectDeliverables-json.zip, Type: json\n",
      " - URL: https://cordis.europa.eu/data/cordis-HORIZONprojects-csv.zip, Type: text/csv\n",
      " - URL: https://cordis.europa.eu/data/cordis-HORIZONprojects-xml.zip, Type: application/xml\n",
      " - URL: https://cordis.europa.eu/data/cordis-HORIZONprojectDeliverables-xml.zip, Type: application/xml\n",
      " - URL: https://cordis.europa.eu/data/cordis-HORIZONreports-csv.zip, Type: text/csv\n",
      " - URL: https://cordis.europa.eu/datalab/visualisations/vis.php, Type: text/html\n",
      " - URL: https://cordis.europa.eu/data/cordis-HORIZONprojectPublications-json.zip, Type: json\n",
      " - URL: https://cordis.europa.eu/data/cordis-HORIZONprojectDeliverables-xlsx.zip, Type: application/vnd.openxmlformats-officedocument.spreadsheetml.sheet\n",
      " - URL: https://cordis.europa.eu/data/cordis-HORIZONprojectPublications-xlsx.zip, Type: application/vnd.openxmlformats-officedocument.spreadsheetml.sheet\n",
      " - URL: https://cordis.europa.eu/data/cordis-HORIZONprojectDeliverables-csv.zip, Type: text/csv\n",
      " - URL: https://cordis.europa.eu/data/cordis-HORIZONprojectPublications-xml.zip, Type: application/xml\n",
      " - URL: https://cordis.europa.eu/data/cordis-HORIZONprojectPublications-csv.zip, Type: text/csv\n",
      " - URL: https://cordis.europa.eu/data/cordis-HORIZONreports-xlsx.zip, Type: application/vnd.openxmlformats-officedocument.spreadsheetml.sheet\n",
      " - URL: https://cordis.europa.eu/data/cordis-HORIZONprojects-xlsx.zip, Type: application/vnd.openxmlformats-officedocument.spreadsheetml.sheet\n",
      " - URL: https://cordis.europa.eu/data/cordis-HORIZONreports-json.zip, Type: json\n",
      " - URL: https://cordis.europa.eu/data/cordis-HORIZONprojects-json.zip, Type: json\n",
      "\n",
      "Title: CORDIS - EU research projects under HORIZON EUROPE (2021-2027)\n",
      "Link: http://data.europa.eu/api/hub/search/datasets/cordis-eu-research-projects-under-horizon-europe-2021-2027/220915-000638\n",
      "Description: This dataset contains information about projects and their results funded by the European Union under the Horizon Europe framework programme for research and innovation from 2021 to 2027.\n",
      "   \n",
      "The dataset is composed of six (6) different sub-set (in different formats):\n",
      "\n",
      "- HORIZON projects – which includes participating organisations, legal basis information, topic information, project URLs and classification with the European Science Vocabulary (EuroSciVoc)\n",
      "- HORIZON project deliverables (meta-data and links to deliverables) \n",
      "- HORIZON project publications (meta-data and links to publications) \n",
      "- HORIZON report summaries (periodic or final publishable summaries) \n",
      "\n",
      "\n",
      "Reference data (programmes, topics, topic keywords funding schemes (types of action), organisation types and countries) can be found in this dataset: https://data.europa.eu/euodp/en/data/dataset/cordisref-data  \n",
      "\n",
      "EuroSciVoc is available here: https://data.europa.eu/data/datasets/euroscivoc-the-european-science-vocabulary\n",
      "\n",
      "CORDIS datasets are produced monthly. Therefore, inconsistencies may occur between what is presented on the CORDIS live website and the datasets.\n",
      "Publication Date: Tue, 18 Jun 2024 08:41:04 +0000\n",
      "Enclosures:\n",
      " - URL: https://cordis.europa.eu/data/cordis-HORIZONreports-xml.zip, Type: application/xml\n",
      " - URL: https://cordis.europa.eu/data/cordis-HORIZONprojectDeliverables-json.zip, Type: json\n",
      " - URL: https://cordis.europa.eu/data/cordis-HORIZONprojects-csv.zip, Type: text/csv\n",
      " - URL: https://cordis.europa.eu/data/cordis-HORIZONprojects-xml.zip, Type: application/xml\n",
      " - URL: https://cordis.europa.eu/data/cordis-HORIZONprojectDeliverables-xml.zip, Type: application/xml\n",
      " - URL: https://cordis.europa.eu/data/cordis-HORIZONreports-csv.zip, Type: text/csv\n",
      " - URL: https://cordis.europa.eu/datalab/visualisations/vis.php, Type: text/html\n",
      " - URL: https://cordis.europa.eu/data/cordis-HORIZONprojectPublications-json.zip, Type: json\n",
      " - URL: https://cordis.europa.eu/data/cordis-HORIZONprojectDeliverables-xlsx.zip, Type: application/vnd.openxmlformats-officedocument.spreadsheetml.sheet\n",
      " - URL: https://cordis.europa.eu/data/cordis-HORIZONprojectPublications-xlsx.zip, Type: application/vnd.openxmlformats-officedocument.spreadsheetml.sheet\n",
      " - URL: https://cordis.europa.eu/data/cordis-HORIZONprojectDeliverables-csv.zip, Type: text/csv\n",
      " - URL: https://cordis.europa.eu/data/cordis-HORIZONprojectPublications-xml.zip, Type: application/xml\n",
      " - URL: https://cordis.europa.eu/data/cordis-HORIZONprojectPublications-csv.zip, Type: text/csv\n",
      " - URL: https://cordis.europa.eu/data/cordis-HORIZONreports-xlsx.zip, Type: application/vnd.openxmlformats-officedocument.spreadsheetml.sheet\n",
      " - URL: https://cordis.europa.eu/data/cordis-HORIZONprojects-xlsx.zip, Type: application/vnd.openxmlformats-officedocument.spreadsheetml.sheet\n",
      " - URL: https://cordis.europa.eu/data/cordis-HORIZONreports-json.zip, Type: json\n",
      " - URL: https://cordis.europa.eu/data/cordis-HORIZONprojects-json.zip, Type: json\n"
     ]
    }
   ],
   "source": [
    "# Test RSS_URL by printing the information in the RSS feed\n",
    "RSS_URL = 'https://data.europa.eu/api/hub/search/en/feeds/datasets/cordis-eu-research-projects-under-horizon-europe-2021-2027.rss'\n",
    "feed = get_rss_feed(RSS_URL)\n",
    "print_rss_feed(feed)"
   ]
  },
  {
   "cell_type": "markdown",
   "id": "111f80a6",
   "metadata": {},
   "source": [
    "## **IMPORT OF DATA** <a class=\"anchor\" id=\"3\"></a>"
   ]
  },
  {
   "cell_type": "code",
   "execution_count": 15,
   "id": "833483d6",
   "metadata": {},
   "outputs": [
    {
     "name": "stdout",
     "output_type": "stream",
     "text": [
      "Getting RSS feed...\n",
      "Feed title = CORDIS — EU-onderzoeksprojecten in het kader van KP7 (2007-2013) - RSS Feed\n",
      "Downloading https://cordis.europa.eu/data/cordis-fp7projects-csv.zip to ../data/eu_cordis_2007_2013/cordis-fp7projects-csv.zip\n",
      "Downloading https://cordis.europa.eu/data/cordis-fp7reports-csv.zip to ../data/eu_cordis_2007_2013/cordis-fp7reports-csv.zip\n",
      "Extracting ../data/eu_cordis_2007_2013/cordis-fp7projects-csv.zip to ../data/eu_cordis_2007_2013/files\n",
      "Extracting ../data/eu_cordis_2007_2013/cordis-fp7reports-csv.zip to ../data/eu_cordis_2007_2013/files\n",
      "Succesfully downloaded and extracted files from RSS_URL: https://data.europa.eu/api/hub/search/nl/feeds/datasets/cordisfp7projects.rss\n"
     ]
    }
   ],
   "source": [
    "# Download files from eu_cordis_2007_2013 RRS feed\n",
    "SAVE_DIRECTORY = '../data/eu_cordis_2007_2013'\n",
    "RSS_URL = 'https://data.europa.eu/api/hub/search/nl/feeds/datasets/cordisfp7projects.rss'\n",
    "\n",
    "download_dataset_from_rss(SAVE_DIRECTORY, RSS_URL)"
   ]
  },
  {
   "cell_type": "code",
   "execution_count": 16,
   "id": "383de51b",
   "metadata": {},
   "outputs": [
    {
     "name": "stdout",
     "output_type": "stream",
     "text": [
      "Getting RSS feed...\n",
      "Feed title = CORDIS - EU research projects under Horizon 2020 (2014-2020) - RSS Feed\n",
      "Downloading https://cordis.europa.eu/data/cordis-h2020projectDeliverables-csv.zip to ../data/eu_cordis_2014_2020/cordis-h2020projectDeliverables-csv.zip\n",
      "Downloading https://cordis.europa.eu/data/cordis-h2020reports-csv.zip to ../data/eu_cordis_2014_2020/cordis-h2020reports-csv.zip\n",
      "Downloading https://cordis.europa.eu/data/cordis-h2020projects-csv.zip to ../data/eu_cordis_2014_2020/cordis-h2020projects-csv.zip\n",
      "Downloading https://cordis.europa.eu/data/cordis-h2020projectPublications-csv.zip to ../data/eu_cordis_2014_2020/cordis-h2020projectPublications-csv.zip\n",
      "Downloading https://cordis.europa.eu/data/cordis-h2020projectDeliverables-csv.zip to ../data/eu_cordis_2014_2020/cordis-h2020projectDeliverables-csv.zip\n",
      "Downloading https://cordis.europa.eu/data/cordis-h2020reports-csv.zip to ../data/eu_cordis_2014_2020/cordis-h2020reports-csv.zip\n",
      "Downloading https://cordis.europa.eu/data/cordis-h2020projects-csv.zip to ../data/eu_cordis_2014_2020/cordis-h2020projects-csv.zip\n",
      "Downloading https://cordis.europa.eu/data/cordis-h2020projectPublications-csv.zip to ../data/eu_cordis_2014_2020/cordis-h2020projectPublications-csv.zip\n",
      "Extracting ../data/eu_cordis_2014_2020/cordis-h2020projectDeliverables-csv.zip to ../data/eu_cordis_2014_2020/files\n",
      "Extracting ../data/eu_cordis_2014_2020/cordis-h2020reports-csv.zip to ../data/eu_cordis_2014_2020/files\n",
      "Extracting ../data/eu_cordis_2014_2020/cordis-h2020projects-csv.zip to ../data/eu_cordis_2014_2020/files\n",
      "Extracting ../data/eu_cordis_2014_2020/cordis-h2020projectPublications-csv.zip to ../data/eu_cordis_2014_2020/files\n",
      "Extracting ../data/eu_cordis_2014_2020/cordis-h2020projectDeliverables-csv.zip to ../data/eu_cordis_2014_2020/files\n",
      "Extracting ../data/eu_cordis_2014_2020/cordis-h2020reports-csv.zip to ../data/eu_cordis_2014_2020/files\n",
      "Extracting ../data/eu_cordis_2014_2020/cordis-h2020projects-csv.zip to ../data/eu_cordis_2014_2020/files\n",
      "Extracting ../data/eu_cordis_2014_2020/cordis-h2020projectPublications-csv.zip to ../data/eu_cordis_2014_2020/files\n",
      "Succesfully downloaded and extracted files from RSS_URL: https://data.europa.eu/api/hub/search/en/feeds/datasets/cordish2020projects.rss\n"
     ]
    }
   ],
   "source": [
    "# Download files from eu_cordis_2014_2020 RRS feed\n",
    "SAVE_DIRECTORY = '../data/eu_cordis_2014_2020'\n",
    "RSS_URL = 'https://data.europa.eu/api/hub/search/en/feeds/datasets/cordish2020projects.rss'\n",
    "\n",
    "download_dataset_from_rss(SAVE_DIRECTORY, RSS_URL)"
   ]
  },
  {
   "cell_type": "code",
   "execution_count": 17,
   "id": "0fdebf14",
   "metadata": {},
   "outputs": [
    {
     "name": "stdout",
     "output_type": "stream",
     "text": [
      "Getting RSS feed...\n",
      "Feed title = CORDIS - EU research projects under HORIZON EUROPE (2021-2027) - RSS Feed\n",
      "Downloading https://cordis.europa.eu/data/cordis-HORIZONprojects-csv.zip to ../data/eu_cordis_2021_2027/cordis-HORIZONprojects-csv.zip\n",
      "Downloading https://cordis.europa.eu/data/cordis-HORIZONreports-csv.zip to ../data/eu_cordis_2021_2027/cordis-HORIZONreports-csv.zip\n",
      "Downloading https://cordis.europa.eu/data/cordis-HORIZONprojectDeliverables-csv.zip to ../data/eu_cordis_2021_2027/cordis-HORIZONprojectDeliverables-csv.zip\n",
      "Downloading https://cordis.europa.eu/data/cordis-HORIZONprojectPublications-csv.zip to ../data/eu_cordis_2021_2027/cordis-HORIZONprojectPublications-csv.zip\n",
      "Downloading https://cordis.europa.eu/data/cordis-HORIZONprojects-csv.zip to ../data/eu_cordis_2021_2027/cordis-HORIZONprojects-csv.zip\n",
      "Downloading https://cordis.europa.eu/data/cordis-HORIZONreports-csv.zip to ../data/eu_cordis_2021_2027/cordis-HORIZONreports-csv.zip\n",
      "Downloading https://cordis.europa.eu/data/cordis-HORIZONprojectDeliverables-csv.zip to ../data/eu_cordis_2021_2027/cordis-HORIZONprojectDeliverables-csv.zip\n",
      "Downloading https://cordis.europa.eu/data/cordis-HORIZONprojectPublications-csv.zip to ../data/eu_cordis_2021_2027/cordis-HORIZONprojectPublications-csv.zip\n",
      "Extracting ../data/eu_cordis_2021_2027/cordis-HORIZONprojects-csv.zip to ../data/eu_cordis_2021_2027/files\n",
      "Extracting ../data/eu_cordis_2021_2027/cordis-HORIZONreports-csv.zip to ../data/eu_cordis_2021_2027/files\n",
      "Extracting ../data/eu_cordis_2021_2027/cordis-HORIZONprojectDeliverables-csv.zip to ../data/eu_cordis_2021_2027/files\n",
      "Extracting ../data/eu_cordis_2021_2027/cordis-HORIZONprojectPublications-csv.zip to ../data/eu_cordis_2021_2027/files\n",
      "Extracting ../data/eu_cordis_2021_2027/cordis-HORIZONprojects-csv.zip to ../data/eu_cordis_2021_2027/files\n",
      "Extracting ../data/eu_cordis_2021_2027/cordis-HORIZONreports-csv.zip to ../data/eu_cordis_2021_2027/files\n",
      "Extracting ../data/eu_cordis_2021_2027/cordis-HORIZONprojectDeliverables-csv.zip to ../data/eu_cordis_2021_2027/files\n",
      "Extracting ../data/eu_cordis_2021_2027/cordis-HORIZONprojectPublications-csv.zip to ../data/eu_cordis_2021_2027/files\n",
      "Succesfully downloaded and extracted files from RSS_URL: https://data.europa.eu/api/hub/search/en/feeds/datasets/cordis-eu-research-projects-under-horizon-europe-2021-2027.rss\n"
     ]
    }
   ],
   "source": [
    "# Download files from eu_cordis_2021_2027 RRS feed\n",
    "SAVE_DIRECTORY = '../data/eu_cordis_2021_2027'\n",
    "RSS_URL = 'https://data.europa.eu/api/hub/search/en/feeds/datasets/cordis-eu-research-projects-under-horizon-europe-2021-2027.rss'\n",
    "\n",
    "download_dataset_from_rss(SAVE_DIRECTORY, RSS_URL)"
   ]
  }
 ],
 "metadata": {
  "kernelspec": {
   "display_name": "Python 3.11.3 ('jupyterbook')",
   "language": "python",
   "name": "python3"
  },
  "language_info": {
   "codemirror_mode": {
    "name": "ipython",
    "version": 3
   },
   "file_extension": ".py",
   "mimetype": "text/x-python",
   "name": "python",
   "nbconvert_exporter": "python",
   "pygments_lexer": "ipython3",
   "version": "3.11.3"
  },
  "vscode": {
   "interpreter": {
    "hash": "b09530657178c7e19541c4f3436177fbc1b4af42cd6d8bf0613c46628e69a13c"
   }
  }
 },
 "nbformat": 4,
 "nbformat_minor": 5
}
